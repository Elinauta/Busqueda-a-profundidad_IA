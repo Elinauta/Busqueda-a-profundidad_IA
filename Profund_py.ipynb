{
  "nbformat": 4,
  "nbformat_minor": 0,
  "metadata": {
    "colab": {
      "name": "Profund.py",
      "provenance": [],
      "authorship_tag": "ABX9TyNO457B5ttgMsqRi8Xfm7ai",
      "include_colab_link": true
    },
    "kernelspec": {
      "name": "python3",
      "display_name": "Python 3"
    }
  },
  "cells": [
    {
      "cell_type": "markdown",
      "metadata": {
        "id": "view-in-github",
        "colab_type": "text"
      },
      "source": [
        "<a href=\"https://colab.research.google.com/github/Elinauta/Busqueda-a-profundidad_IA/blob/main/Profund_py.ipynb\" target=\"_parent\"><img src=\"https://colab.research.google.com/assets/colab-badge.svg\" alt=\"Open In Colab\"/></a>"
      ]
    },
    {
      "cell_type": "code",
      "metadata": {
        "colab": {
          "base_uri": "https://localhost:8080/"
        },
        "id": "JjdhtHE91tKJ",
        "outputId": "a88c3f5e-7b22-4a3d-853c-db3858e48358"
      },
      "source": [
        "#Maria Elizabeth Cuaya Padilla 19110132 5°E1\n",
        "#ACTIVIDAD 3: Busqueda a profundidad de un arbol de expancion\n",
        "\n",
        "\n",
        "#declaracion de variables\n",
        "V = ('a', 'b', 'c', 'd', 'e', 'f', 'g', 'h')\n",
        "E = {('a','b'),('a','c'),('a','g'),\n",
        "     ('b','a'),('b','d'),('b','g'),\n",
        "     ('c','a'),('c','d'),('c','e'),\n",
        "     ('d','b'),('d','c'),('d','f'),\n",
        "     ('e','c'),('e','f'),('e','g'),\n",
        "     ('f','d'),('f','e'),('f','h'),\n",
        "     ('g','a'),('g','b'),('g','e'),\n",
        "     ('h','f')}\n",
        "\n",
        "v1 = V[0]\n",
        "Vp = [v1]\n",
        "Ep = []\n",
        "w = v1\n",
        "padre = {}\n",
        "\n",
        "#desarrollo\n",
        "while True:\n",
        "    while True:\n",
        "        arista=[(w,x) for x in V if ((w,x)) in E and x not in Vp]\n",
        "        if arista==[]:\n",
        "            break\n",
        "        vk = arista[0]\n",
        "        Ep.append(vk)\n",
        "        Vp.append(vk[1])\n",
        "        padre.update({vk[1]:w}) \n",
        "        w = vk[1]\n",
        "    if w == v1:\n",
        "        print(\"Busqueda Finalizada\")\n",
        "        break\n",
        "    w = padre.get(w) #el hijo se vuelve padre\n",
        "\n",
        "#imprime las aristas resultantes de la busqueda E'\n",
        "print(f\"\\nE' = {Ep}\")"
      ],
      "execution_count": null,
      "outputs": [
        {
          "output_type": "stream",
          "text": [
            "Busqueda Finalizada\n",
            "\n",
            "E' = [('a', 'b'), ('b', 'd'), ('d', 'c'), ('c', 'e'), ('e', 'f'), ('f', 'h'), ('e', 'g')]\n"
          ],
          "name": "stdout"
        }
      ]
    }
  ]
}